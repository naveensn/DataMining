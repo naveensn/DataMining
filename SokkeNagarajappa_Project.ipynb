{
 "cells": [
  {
   "cell_type": "markdown",
   "metadata": {},
   "source": [
    "# Data Mining Project¶\n",
    "## Given the games review, predict the rating.\n",
    "### Naveen Sokke Nagarajappa\n",
    "### ID: 1001768613"
   ]
  },
  {
   "cell_type": "markdown",
   "metadata": {},
   "source": [
    "### Project download Link: https://github.com/naveensn/DataMining/blob/master/SokkeNagarajappa_Project.ipynb\n",
    "\n",
    "### Project Video: https://www.youtube.com/watch?v=979VXTpzqvI\n",
    "\n",
    "### Application : http://ec2-52-87-236-81.compute-1.amazonaws.com:5000/"
   ]
  },
  {
   "cell_type": "markdown",
   "metadata": {},
   "source": [
    "### Abstract\n",
    "\n",
    "#### Data mining is the process of discovering patterns in large data sets involving methods at the intersection of machine learning, statistics, and database systems. In this project we are trying to implement some basic methods of data mining. we are using below method"
   ]
  },
  {
   "cell_type": "markdown",
   "metadata": {},
   "source": [
    "![jpeg](1.jpeg)"
   ]
  },
  {
   "cell_type": "markdown",
   "metadata": {},
   "source": [
    "#### The goal of this project is - given the review, predict the rating. \n",
    "#### We are using data from The Board Game Geek (BGG). The Board Game Geek (BGG) database is a collection of data and information on traditional board games. All the information within the database was meticulously and voluntarily entered on a game-by-game basis by board game users. In this project we are using comments (reviews) and ratings to build our model to predict rating given reviews.\n",
    "#### In data preparation we have dropped all records which don't have comments, and dropped all other columns like ID, user, name. changed comments lowercase to remove not so useful characters from text. and converted all ratings to integral ratings between (1 to 10) inclusive. In all this we have maintained the same data distribution.\n",
    "#### After all the above clean up process we had a large data set of around 2700000 records we  have divided these records into 20% test data, 16% Dev data, and 64% Train data. We use Train data for training our model then dev data to evaluate trained models and retrain the models. Then in the end we use Test data to test our final model accuracy.\n",
    "#### Now it is difficult to directly use text in any model, so we have converted each comment into useful numerical forms which can be used by models. For this we can convert it to TF IDF form. The formula that is used to compute the tf-idf for a term t of a document d in a document set is \n",
    "#### tf-idf(t, d) = tf(t, d) * idf(t), \n",
    "#### and the idf is computed as \n",
    "#### idf(d, t) = log [ (1 + n) / (1 + df(d, t)) ] + 1. \n",
    "#### where n is the total number of documents in the document set and df(t) is the document frequency of t; the document frequency is the number of documents in the document set that contain the term t. We take only Train data set to calculate n. We only consider the top 1000 words. we drop other low frequency words which only appear on very few records.\n",
    "\n",
    "### Models Building.\n",
    "#### We know for text analysis, some of the models are good for text analysis like Naive Bayse, RNN,and some are not so good for text analysis like KNN. \n",
    "#### In this project we are using Multinomial Naive Bayes, Support Vector Machine(SVM), Random Forest Classifier. We have also tried different ensembles using the above models."
   ]
  },
  {
   "cell_type": "markdown",
   "metadata": {},
   "source": [
    "### References:\n",
    "\n",
    "https://medium.com/datadriveninvestor/deploy-your-machine-learning-model-using-flask-made-easy-now-635d2f12c50c   \n",
    "https://scikit-learn.org/stable/modules/generated/sklearn.ensemble.RandomForestClassifier.html    \n",
    "https://docs.oracle.com/cd/B28359_01/datamine.111/b28129/process.htm#DMCON046    "
   ]
  },
  {
   "cell_type": "code",
   "execution_count": 1,
   "metadata": {},
   "outputs": [],
   "source": [
    "# Importing libraries\n",
    "from zipfile import ZipFile               # open zip file.\n",
    "import os                                 # for pathname of file\n",
    "import pandas as pd\n",
    "import numpy as np\n",
    "import matplotlib.pyplot as plt\n",
    "from sklearn.model_selection import train_test_split\n",
    "from sklearn.feature_extraction.text import TfidfVectorizer\n",
    "from sklearn.naive_bayes import MultinomialNB\n",
    "from sklearn.svm import LinearSVC\n",
    "from sklearn.ensemble import RandomForestClassifier\n",
    "from sklearn.metrics import accuracy_score\n",
    "from sklearn.metrics import mean_squared_error\n",
    "import math\n"
   ]
  },
  {
   "cell_type": "markdown",
   "metadata": {},
   "source": [
    "### Opening Zip file."
   ]
  },
  {
   "cell_type": "code",
   "execution_count": 2,
   "metadata": {},
   "outputs": [
    {
     "name": "stdout",
     "output_type": "stream",
     "text": [
      "File Name                                             Modified             Size\n",
      "2019-05-02.csv                                 2019-10-24 19:01:42      3038693\n",
      "bgg-13m-reviews.csv                            2019-10-24 19:01:58   1178094162\n",
      "games_detailed_info.csv                        2019-10-24 19:03:42     71852505\n",
      "Extracting all the files now...\n"
     ]
    }
   ],
   "source": [
    "with ZipFile(\"boardgamegeek-reviews.zip\", 'r') as zip: \n",
    "    # printing all the contents of the zip file \n",
    "    zip.printdir() \n",
    "  \n",
    "    # extracting all the files \n",
    "    print('Extracting all the files now...') \n",
    "    zip.extractall(path=\"boardgamegeek-reviews/\") "
   ]
  },
  {
   "cell_type": "markdown",
   "metadata": {},
   "source": [
    "### Reading Data into dataframe"
   ]
  },
  {
   "cell_type": "code",
   "execution_count": 3,
   "metadata": {},
   "outputs": [],
   "source": [
    "reviews_df = pd.read_csv(\"./boardgamegeek-reviews/bgg-13m-reviews.csv\")"
   ]
  },
  {
   "cell_type": "markdown",
   "metadata": {},
   "source": [
    "# Data Visualization "
   ]
  },
  {
   "cell_type": "code",
   "execution_count": 4,
   "metadata": {},
   "outputs": [
    {
     "name": "stdout",
     "output_type": "stream",
     "text": [
      "(13170073, 6)\n"
     ]
    },
    {
     "data": {
      "text/html": [
       "<div>\n",
       "<style scoped>\n",
       "    .dataframe tbody tr th:only-of-type {\n",
       "        vertical-align: middle;\n",
       "    }\n",
       "\n",
       "    .dataframe tbody tr th {\n",
       "        vertical-align: top;\n",
       "    }\n",
       "\n",
       "    .dataframe thead th {\n",
       "        text-align: right;\n",
       "    }\n",
       "</style>\n",
       "<table border=\"1\" class=\"dataframe\">\n",
       "  <thead>\n",
       "    <tr style=\"text-align: right;\">\n",
       "      <th></th>\n",
       "      <th>Unnamed: 0</th>\n",
       "      <th>user</th>\n",
       "      <th>rating</th>\n",
       "      <th>comment</th>\n",
       "      <th>ID</th>\n",
       "      <th>name</th>\n",
       "    </tr>\n",
       "  </thead>\n",
       "  <tbody>\n",
       "    <tr>\n",
       "      <td>0</td>\n",
       "      <td>0</td>\n",
       "      <td>sidehacker</td>\n",
       "      <td>10.0</td>\n",
       "      <td>NaN</td>\n",
       "      <td>13</td>\n",
       "      <td>Catan</td>\n",
       "    </tr>\n",
       "    <tr>\n",
       "      <td>1</td>\n",
       "      <td>1</td>\n",
       "      <td>Varthlokkur</td>\n",
       "      <td>10.0</td>\n",
       "      <td>NaN</td>\n",
       "      <td>13</td>\n",
       "      <td>Catan</td>\n",
       "    </tr>\n",
       "    <tr>\n",
       "      <td>2</td>\n",
       "      <td>2</td>\n",
       "      <td>dougthonus</td>\n",
       "      <td>10.0</td>\n",
       "      <td>Currently, this sits on my list as my favorite...</td>\n",
       "      <td>13</td>\n",
       "      <td>Catan</td>\n",
       "    </tr>\n",
       "    <tr>\n",
       "      <td>3</td>\n",
       "      <td>3</td>\n",
       "      <td>cypar7</td>\n",
       "      <td>10.0</td>\n",
       "      <td>I know it says how many plays, but many, many ...</td>\n",
       "      <td>13</td>\n",
       "      <td>Catan</td>\n",
       "    </tr>\n",
       "    <tr>\n",
       "      <td>4</td>\n",
       "      <td>4</td>\n",
       "      <td>ssmooth</td>\n",
       "      <td>10.0</td>\n",
       "      <td>NaN</td>\n",
       "      <td>13</td>\n",
       "      <td>Catan</td>\n",
       "    </tr>\n",
       "  </tbody>\n",
       "</table>\n",
       "</div>"
      ],
      "text/plain": [
       "   Unnamed: 0         user  rating  \\\n",
       "0           0   sidehacker    10.0   \n",
       "1           1  Varthlokkur    10.0   \n",
       "2           2   dougthonus    10.0   \n",
       "3           3       cypar7    10.0   \n",
       "4           4      ssmooth    10.0   \n",
       "\n",
       "                                             comment  ID   name  \n",
       "0                                                NaN  13  Catan  \n",
       "1                                                NaN  13  Catan  \n",
       "2  Currently, this sits on my list as my favorite...  13  Catan  \n",
       "3  I know it says how many plays, but many, many ...  13  Catan  \n",
       "4                                                NaN  13  Catan  "
      ]
     },
     "execution_count": 4,
     "metadata": {},
     "output_type": "execute_result"
    }
   ],
   "source": [
    "print(reviews_df.shape)\n",
    "reviews_df.head()"
   ]
  },
  {
   "cell_type": "markdown",
   "metadata": {},
   "source": [
    "#### Distribution of ratings"
   ]
  },
  {
   "cell_type": "code",
   "execution_count": 5,
   "metadata": {},
   "outputs": [
    {
     "data": {
      "image/png": "[encoded data removed]",
      "text/plain": [
       "<Figure size 432x288 with 1 Axes>"
      ]
     },
     "metadata": {
      "needs_background": "light"
     },
     "output_type": "display_data"
    }
   ],
   "source": [
    "reviews_df['rating'].plot.hist(bins=10)\n",
    "plt.show()"
   ]
  },
  {
   "cell_type": "code",
   "execution_count": 6,
   "metadata": {},
   "outputs": [
    {
     "name": "stdout",
     "output_type": "stream",
     "text": [
      "Number of unique values of rating = 8202\n",
      "Some of unique values in rating are = [10.       9.999    9.99    ...  7.8524   4.417    7.98525]\n"
     ]
    },
    {
     "data": {
      "text/plain": [
       "0           10.0\n",
       "1           10.0\n",
       "2           10.0\n",
       "3           10.0\n",
       "4           10.0\n",
       "            ... \n",
       "13170068     3.0\n",
       "13170069     3.0\n",
       "13170070     2.5\n",
       "13170071     2.0\n",
       "13170072     2.0\n",
       "Name: rating, Length: 13170073, dtype: float64"
      ]
     },
     "execution_count": 6,
     "metadata": {},
     "output_type": "execute_result"
    }
   ],
   "source": [
    "print(f'Number of unique values of rating = {reviews_df[\"rating\"].nunique()}')\n",
    "print(f'Some of unique values in rating are = {reviews_df[\"rating\"].unique()}')\n",
    "reviews_df[\"rating\"]"
   ]
  },
  {
   "cell_type": "markdown",
   "metadata": {},
   "source": [
    "## Data Pre-processing"
   ]
  },
  {
   "cell_type": "markdown",
   "metadata": {},
   "source": [
    "### convert all these rating to integer rating between 0 to 10(inclusive)\n",
    "### as all rating are in float we can use round()"
   ]
  },
  {
   "cell_type": "code",
   "execution_count": 7,
   "metadata": {},
   "outputs": [
    {
     "name": "stdout",
     "output_type": "stream",
     "text": [
      "Number of unique values of rating = 11\n"
     ]
    }
   ],
   "source": [
    "reviews_df[\"rating\"] = reviews_df[\"rating\"].round()\n",
    "print(f'Number of unique values of rating = {reviews_df[\"rating\"].nunique()}')"
   ]
  },
  {
   "cell_type": "markdown",
   "metadata": {},
   "source": [
    "### Our goal is given the review, predict the rating. Columns other than rating and comments and records without comments are not useful for me. we don't have any good use for this data.\n",
    "#### Dropping all unused columns."
   ]
  },
  {
   "cell_type": "code",
   "execution_count": 8,
   "metadata": {},
   "outputs": [],
   "source": [
    "reviews_df = reviews_df.drop(['Unnamed: 0', 'user', 'ID','name'], axis=1)"
   ]
  },
  {
   "cell_type": "markdown",
   "metadata": {},
   "source": [
    "#### checking for Null values in rating and comment columns."
   ]
  },
  {
   "cell_type": "code",
   "execution_count": 9,
   "metadata": {},
   "outputs": [
    {
     "data": {
      "text/plain": [
       "rating            0\n",
       "comment    10532317\n",
       "dtype: int64"
      ]
     },
     "execution_count": 9,
     "metadata": {},
     "output_type": "execute_result"
    }
   ],
   "source": [
    "reviews_df.isnull().sum()"
   ]
  },
  {
   "cell_type": "markdown",
   "metadata": {},
   "source": [
    "#### There are 10,532,317 records without any comments but My goal is given the review, to predict the rating. records without comments are not useful for me. we don't have any good use for this data so I will be deleting these records."
   ]
  },
  {
   "cell_type": "code",
   "execution_count": 10,
   "metadata": {},
   "outputs": [
    {
     "data": {
      "text/html": [
       "<div>\n",
       "<style scoped>\n",
       "    .dataframe tbody tr th:only-of-type {\n",
       "        vertical-align: middle;\n",
       "    }\n",
       "\n",
       "    .dataframe tbody tr th {\n",
       "        vertical-align: top;\n",
       "    }\n",
       "\n",
       "    .dataframe thead th {\n",
       "        text-align: right;\n",
       "    }\n",
       "</style>\n",
       "<table border=\"1\" class=\"dataframe\">\n",
       "  <thead>\n",
       "    <tr style=\"text-align: right;\">\n",
       "      <th></th>\n",
       "      <th>rating</th>\n",
       "      <th>comment</th>\n",
       "    </tr>\n",
       "  </thead>\n",
       "  <tbody>\n",
       "    <tr>\n",
       "      <td>2</td>\n",
       "      <td>10.0</td>\n",
       "      <td>Currently, this sits on my list as my favorite...</td>\n",
       "    </tr>\n",
       "    <tr>\n",
       "      <td>3</td>\n",
       "      <td>10.0</td>\n",
       "      <td>I know it says how many plays, but many, many ...</td>\n",
       "    </tr>\n",
       "    <tr>\n",
       "      <td>7</td>\n",
       "      <td>10.0</td>\n",
       "      <td>i will never tire of this game.. Awesome</td>\n",
       "    </tr>\n",
       "    <tr>\n",
       "      <td>11</td>\n",
       "      <td>10.0</td>\n",
       "      <td>This is probably the best game I ever played. ...</td>\n",
       "    </tr>\n",
       "    <tr>\n",
       "      <td>16</td>\n",
       "      <td>10.0</td>\n",
       "      <td>Fantastic game. Got me hooked on games all ove...</td>\n",
       "    </tr>\n",
       "    <tr>\n",
       "      <td>...</td>\n",
       "      <td>...</td>\n",
       "      <td>...</td>\n",
       "    </tr>\n",
       "    <tr>\n",
       "      <td>13170066</td>\n",
       "      <td>3.0</td>\n",
       "      <td>Horrible party game.  I'm dumping this one!</td>\n",
       "    </tr>\n",
       "    <tr>\n",
       "      <td>13170067</td>\n",
       "      <td>3.0</td>\n",
       "      <td>Difficult to build anything at all with the in...</td>\n",
       "    </tr>\n",
       "    <tr>\n",
       "      <td>13170069</td>\n",
       "      <td>3.0</td>\n",
       "      <td>Lego created a version of Pictionary, only you...</td>\n",
       "    </tr>\n",
       "    <tr>\n",
       "      <td>13170070</td>\n",
       "      <td>2.0</td>\n",
       "      <td>This game is very similar to Creationary. It c...</td>\n",
       "    </tr>\n",
       "    <tr>\n",
       "      <td>13170071</td>\n",
       "      <td>2.0</td>\n",
       "      <td>This game was really bad.  Worst that I've pla...</td>\n",
       "    </tr>\n",
       "  </tbody>\n",
       "</table>\n",
       "<p>2637756 rows × 2 columns</p>\n",
       "</div>"
      ],
      "text/plain": [
       "          rating                                            comment\n",
       "2           10.0  Currently, this sits on my list as my favorite...\n",
       "3           10.0  I know it says how many plays, but many, many ...\n",
       "7           10.0           i will never tire of this game.. Awesome\n",
       "11          10.0  This is probably the best game I ever played. ...\n",
       "16          10.0  Fantastic game. Got me hooked on games all ove...\n",
       "...          ...                                                ...\n",
       "13170066     3.0        Horrible party game.  I'm dumping this one!\n",
       "13170067     3.0  Difficult to build anything at all with the in...\n",
       "13170069     3.0  Lego created a version of Pictionary, only you...\n",
       "13170070     2.0  This game is very similar to Creationary. It c...\n",
       "13170071     2.0  This game was really bad.  Worst that I've pla...\n",
       "\n",
       "[2637756 rows x 2 columns]"
      ]
     },
     "execution_count": 10,
     "metadata": {},
     "output_type": "execute_result"
    }
   ],
   "source": [
    "reviews_df.dropna(subset=['comment'])"
   ]
  },
  {
   "cell_type": "markdown",
   "metadata": {},
   "source": [
    "#### checking how deleting records with null value is affecting our data distribution."
   ]
  },
  {
   "cell_type": "code",
   "execution_count": 11,
   "metadata": {},
   "outputs": [
    {
     "data": {
      "text/plain": [
       "Text(0, 0.5, 'number of retings')"
      ]
     },
     "execution_count": 11,
     "metadata": {},
     "output_type": "execute_result"
    },
    {
     "data": {
      "image/png": "[encoded data removed]",
      "text/plain": [
       "<Figure size 1224x576 with 2 Axes>"
      ]
     },
     "metadata": {
      "needs_background": "light"
     },
     "output_type": "display_data"
    }
   ],
   "source": [
    "fig, axes = plt.subplots(ncols=2)\n",
    "\n",
    "plot1 = reviews_df.rating.value_counts().sort_index().plot(kind='bar', legend=True, rot=0, ax=axes[0])\n",
    "plot1.set_title(\"All records\")\n",
    "plot1.set_xlabel(\"Rating\")\n",
    "plot1.set_ylabel(\"number of retings\")\n",
    "plot2 = reviews_df.dropna(subset=['comment']).rating.value_counts().sort_index().plot(kind='bar', legend=True, rot=0,figsize=(17, 8))\n",
    "plot2.set_title(\"Records with comments\")\n",
    "plot2.set_xlabel(\"Rating\")\n",
    "plot2.set_ylabel(\"number of retings\")\n"
   ]
  },
  {
   "cell_type": "markdown",
   "metadata": {},
   "source": [
    "#### data distribution after removing all records with no comment looks same as before."
   ]
  },
  {
   "cell_type": "code",
   "execution_count": 12,
   "metadata": {},
   "outputs": [],
   "source": [
    "reviews_df = reviews_df.dropna(subset=['comment'])"
   ]
  },
  {
   "cell_type": "markdown",
   "metadata": {},
   "source": [
    "#### checking for any duplicate values."
   ]
  },
  {
   "cell_type": "code",
   "execution_count": 13,
   "metadata": {},
   "outputs": [
    {
     "name": "stdout",
     "output_type": "stream",
     "text": [
      "Number of duplicates in the data = 159586\n"
     ]
    }
   ],
   "source": [
    "print(f'Number of duplicates in the data = {reviews_df.duplicated().sum()}')"
   ]
  },
  {
   "cell_type": "markdown",
   "metadata": {},
   "source": [
    "#### Deleting these duplicates as these will cause bias in our model."
   ]
  },
  {
   "cell_type": "code",
   "execution_count": 14,
   "metadata": {},
   "outputs": [
    {
     "data": {
      "text/html": [
       "<div>\n",
       "<style scoped>\n",
       "    .dataframe tbody tr th:only-of-type {\n",
       "        vertical-align: middle;\n",
       "    }\n",
       "\n",
       "    .dataframe tbody tr th {\n",
       "        vertical-align: top;\n",
       "    }\n",
       "\n",
       "    .dataframe thead th {\n",
       "        text-align: right;\n",
       "    }\n",
       "</style>\n",
       "<table border=\"1\" class=\"dataframe\">\n",
       "  <thead>\n",
       "    <tr style=\"text-align: right;\">\n",
       "      <th></th>\n",
       "      <th>rating</th>\n",
       "      <th>comment</th>\n",
       "    </tr>\n",
       "  </thead>\n",
       "  <tbody>\n",
       "    <tr>\n",
       "      <td>2</td>\n",
       "      <td>10.0</td>\n",
       "      <td>Currently, this sits on my list as my favorite...</td>\n",
       "    </tr>\n",
       "    <tr>\n",
       "      <td>3</td>\n",
       "      <td>10.0</td>\n",
       "      <td>I know it says how many plays, but many, many ...</td>\n",
       "    </tr>\n",
       "    <tr>\n",
       "      <td>7</td>\n",
       "      <td>10.0</td>\n",
       "      <td>i will never tire of this game.. Awesome</td>\n",
       "    </tr>\n",
       "    <tr>\n",
       "      <td>11</td>\n",
       "      <td>10.0</td>\n",
       "      <td>This is probably the best game I ever played. ...</td>\n",
       "    </tr>\n",
       "    <tr>\n",
       "      <td>16</td>\n",
       "      <td>10.0</td>\n",
       "      <td>Fantastic game. Got me hooked on games all ove...</td>\n",
       "    </tr>\n",
       "    <tr>\n",
       "      <td>...</td>\n",
       "      <td>...</td>\n",
       "      <td>...</td>\n",
       "    </tr>\n",
       "    <tr>\n",
       "      <td>13170066</td>\n",
       "      <td>3.0</td>\n",
       "      <td>Horrible party game.  I'm dumping this one!</td>\n",
       "    </tr>\n",
       "    <tr>\n",
       "      <td>13170067</td>\n",
       "      <td>3.0</td>\n",
       "      <td>Difficult to build anything at all with the in...</td>\n",
       "    </tr>\n",
       "    <tr>\n",
       "      <td>13170069</td>\n",
       "      <td>3.0</td>\n",
       "      <td>Lego created a version of Pictionary, only you...</td>\n",
       "    </tr>\n",
       "    <tr>\n",
       "      <td>13170070</td>\n",
       "      <td>2.0</td>\n",
       "      <td>This game is very similar to Creationary. It c...</td>\n",
       "    </tr>\n",
       "    <tr>\n",
       "      <td>13170071</td>\n",
       "      <td>2.0</td>\n",
       "      <td>This game was really bad.  Worst that I've pla...</td>\n",
       "    </tr>\n",
       "  </tbody>\n",
       "</table>\n",
       "<p>2478170 rows × 2 columns</p>\n",
       "</div>"
      ],
      "text/plain": [
       "          rating                                            comment\n",
       "2           10.0  Currently, this sits on my list as my favorite...\n",
       "3           10.0  I know it says how many plays, but many, many ...\n",
       "7           10.0           i will never tire of this game.. Awesome\n",
       "11          10.0  This is probably the best game I ever played. ...\n",
       "16          10.0  Fantastic game. Got me hooked on games all ove...\n",
       "...          ...                                                ...\n",
       "13170066     3.0        Horrible party game.  I'm dumping this one!\n",
       "13170067     3.0  Difficult to build anything at all with the in...\n",
       "13170069     3.0  Lego created a version of Pictionary, only you...\n",
       "13170070     2.0  This game is very similar to Creationary. It c...\n",
       "13170071     2.0  This game was really bad.  Worst that I've pla...\n",
       "\n",
       "[2478170 rows x 2 columns]"
      ]
     },
     "execution_count": 14,
     "metadata": {},
     "output_type": "execute_result"
    }
   ],
   "source": [
    "reviews_df = reviews_df.drop_duplicates(subset=None, keep='first')\n",
    "reviews_df"
   ]
  },
  {
   "cell_type": "markdown",
   "metadata": {},
   "source": [
    "## Cleaning up comments."
   ]
  },
  {
   "cell_type": "code",
   "execution_count": 15,
   "metadata": {},
   "outputs": [],
   "source": [
    "# Removing all \n",
    "reviews_df['comment'] = [comment.strip().lower() for comment in reviews_df['comment']]"
   ]
  },
  {
   "cell_type": "code",
   "execution_count": 16,
   "metadata": {},
   "outputs": [],
   "source": [
    "# removes all other charectores except a-z, A-Z, numbers, _, +, -, /, ', . and white space\n",
    "reviews_df['comment'] = reviews_df['comment'].replace(r\"[^a-zA-Z\\d\\_\\+\\-\\'\\.\\/\\s]+\", ' ', regex = True)\n",
    "\n",
    "# removes '.' used as period and \"'\" used as cotation\n",
    "reviews_df['comment'] = reviews_df['comment'].replace([\"./ \", \"' \", \" '\"], \" \", regex = True)"
   ]
  },
  {
   "cell_type": "markdown",
   "metadata": {},
   "source": [
    "#### I am not removing Stop Words as this list contains is, isn't, would, wouldn't \n",
    "#### as removing this may impact negatively on our model"
   ]
  },
  {
   "cell_type": "code",
   "execution_count": 18,
   "metadata": {},
   "outputs": [
    {
     "data": {
      "text/html": [
       "<div>\n",
       "<style scoped>\n",
       "    .dataframe tbody tr th:only-of-type {\n",
       "        vertical-align: middle;\n",
       "    }\n",
       "\n",
       "    .dataframe tbody tr th {\n",
       "        vertical-align: top;\n",
       "    }\n",
       "\n",
       "    .dataframe thead th {\n",
       "        text-align: right;\n",
       "    }\n",
       "</style>\n",
       "<table border=\"1\" class=\"dataframe\">\n",
       "  <thead>\n",
       "    <tr style=\"text-align: right;\">\n",
       "      <th></th>\n",
       "      <th>rating</th>\n",
       "      <th>comment</th>\n",
       "    </tr>\n",
       "  </thead>\n",
       "  <tbody>\n",
       "    <tr>\n",
       "      <td>2</td>\n",
       "      <td>10.0</td>\n",
       "      <td>currently  this sits on my list as my favorite...</td>\n",
       "    </tr>\n",
       "    <tr>\n",
       "      <td>3</td>\n",
       "      <td>10.0</td>\n",
       "      <td>i know it says how many plays  but many  many ...</td>\n",
       "    </tr>\n",
       "    <tr>\n",
       "      <td>7</td>\n",
       "      <td>10.0</td>\n",
       "      <td>i will never tire of this game.. awesome</td>\n",
       "    </tr>\n",
       "    <tr>\n",
       "      <td>11</td>\n",
       "      <td>10.0</td>\n",
       "      <td>this is probably the best game i ever played. ...</td>\n",
       "    </tr>\n",
       "    <tr>\n",
       "      <td>16</td>\n",
       "      <td>10.0</td>\n",
       "      <td>fantastic game. got me hooked on games all ove...</td>\n",
       "    </tr>\n",
       "    <tr>\n",
       "      <td>...</td>\n",
       "      <td>...</td>\n",
       "      <td>...</td>\n",
       "    </tr>\n",
       "    <tr>\n",
       "      <td>203</td>\n",
       "      <td>10.0</td>\n",
       "      <td>wooden figures edition + catan - exp  pre-2007...</td>\n",
       "    </tr>\n",
       "    <tr>\n",
       "      <td>205</td>\n",
       "      <td>10.0</td>\n",
       "      <td>imo the perfect game. as well as enjoying this...</td>\n",
       "    </tr>\n",
       "    <tr>\n",
       "      <td>207</td>\n",
       "      <td>10.0</td>\n",
       "      <td>this is an outstanding game. simple and effici...</td>\n",
       "    </tr>\n",
       "    <tr>\n",
       "      <td>208</td>\n",
       "      <td>10.0</td>\n",
       "      <td>such a simple game but yet you have so many de...</td>\n",
       "    </tr>\n",
       "    <tr>\n",
       "      <td>209</td>\n",
       "      <td>10.0</td>\n",
       "      <td>i like to trade and build.</td>\n",
       "    </tr>\n",
       "  </tbody>\n",
       "</table>\n",
       "<p>100 rows × 2 columns</p>\n",
       "</div>"
      ],
      "text/plain": [
       "     rating                                            comment\n",
       "2      10.0  currently  this sits on my list as my favorite...\n",
       "3      10.0  i know it says how many plays  but many  many ...\n",
       "7      10.0           i will never tire of this game.. awesome\n",
       "11     10.0  this is probably the best game i ever played. ...\n",
       "16     10.0  fantastic game. got me hooked on games all ove...\n",
       "..      ...                                                ...\n",
       "203    10.0  wooden figures edition + catan - exp  pre-2007...\n",
       "205    10.0  imo the perfect game. as well as enjoying this...\n",
       "207    10.0  this is an outstanding game. simple and effici...\n",
       "208    10.0  such a simple game but yet you have so many de...\n",
       "209    10.0                         i like to trade and build.\n",
       "\n",
       "[100 rows x 2 columns]"
      ]
     },
     "execution_count": 18,
     "metadata": {},
     "output_type": "execute_result"
    }
   ],
   "source": [
    "reviews_df.head(100)"
   ]
  },
  {
   "cell_type": "markdown",
   "metadata": {},
   "source": [
    "#### Checking for all blank comments introduced after clean up."
   ]
  },
  {
   "cell_type": "code",
   "execution_count": 20,
   "metadata": {},
   "outputs": [
    {
     "data": {
      "text/plain": [
       "63"
      ]
     },
     "execution_count": 20,
     "metadata": {},
     "output_type": "execute_result"
    }
   ],
   "source": [
    "len(reviews_df[reviews_df['comment'].apply(lambda x: len(x) == 0)])"
   ]
  },
  {
   "cell_type": "code",
   "execution_count": 21,
   "metadata": {},
   "outputs": [],
   "source": [
    "# Removing these blank comments"
   ]
  },
  {
   "cell_type": "code",
   "execution_count": 22,
   "metadata": {},
   "outputs": [],
   "source": [
    "reviews_df = reviews_df[reviews_df['comment'] != '']"
   ]
  },
  {
   "cell_type": "code",
   "execution_count": 23,
   "metadata": {},
   "outputs": [
    {
     "data": {
      "text/html": [
       "<div>\n",
       "<style scoped>\n",
       "    .dataframe tbody tr th:only-of-type {\n",
       "        vertical-align: middle;\n",
       "    }\n",
       "\n",
       "    .dataframe tbody tr th {\n",
       "        vertical-align: top;\n",
       "    }\n",
       "\n",
       "    .dataframe thead th {\n",
       "        text-align: right;\n",
       "    }\n",
       "</style>\n",
       "<table border=\"1\" class=\"dataframe\">\n",
       "  <thead>\n",
       "    <tr style=\"text-align: right;\">\n",
       "      <th></th>\n",
       "      <th>rating</th>\n",
       "      <th>comment</th>\n",
       "    </tr>\n",
       "  </thead>\n",
       "  <tbody>\n",
       "    <tr>\n",
       "      <td>2</td>\n",
       "      <td>10.0</td>\n",
       "      <td>currently  this sits on my list as my favorite...</td>\n",
       "    </tr>\n",
       "    <tr>\n",
       "      <td>3</td>\n",
       "      <td>10.0</td>\n",
       "      <td>i know it says how many plays  but many  many ...</td>\n",
       "    </tr>\n",
       "    <tr>\n",
       "      <td>7</td>\n",
       "      <td>10.0</td>\n",
       "      <td>i will never tire of this game.. awesome</td>\n",
       "    </tr>\n",
       "    <tr>\n",
       "      <td>11</td>\n",
       "      <td>10.0</td>\n",
       "      <td>this is probably the best game i ever played. ...</td>\n",
       "    </tr>\n",
       "    <tr>\n",
       "      <td>16</td>\n",
       "      <td>10.0</td>\n",
       "      <td>fantastic game. got me hooked on games all ove...</td>\n",
       "    </tr>\n",
       "    <tr>\n",
       "      <td>...</td>\n",
       "      <td>...</td>\n",
       "      <td>...</td>\n",
       "    </tr>\n",
       "    <tr>\n",
       "      <td>13170066</td>\n",
       "      <td>3.0</td>\n",
       "      <td>horrible party game.  i'm dumping this one</td>\n",
       "    </tr>\n",
       "    <tr>\n",
       "      <td>13170067</td>\n",
       "      <td>3.0</td>\n",
       "      <td>difficult to build anything at all with the in...</td>\n",
       "    </tr>\n",
       "    <tr>\n",
       "      <td>13170069</td>\n",
       "      <td>3.0</td>\n",
       "      <td>lego created a version of pictionary  only you...</td>\n",
       "    </tr>\n",
       "    <tr>\n",
       "      <td>13170070</td>\n",
       "      <td>2.0</td>\n",
       "      <td>this game is very similar to creationary. it c...</td>\n",
       "    </tr>\n",
       "    <tr>\n",
       "      <td>13170071</td>\n",
       "      <td>2.0</td>\n",
       "      <td>this game was really bad.  worst that i've pla...</td>\n",
       "    </tr>\n",
       "  </tbody>\n",
       "</table>\n",
       "<p>2478107 rows × 2 columns</p>\n",
       "</div>"
      ],
      "text/plain": [
       "          rating                                            comment\n",
       "2           10.0  currently  this sits on my list as my favorite...\n",
       "3           10.0  i know it says how many plays  but many  many ...\n",
       "7           10.0           i will never tire of this game.. awesome\n",
       "11          10.0  this is probably the best game i ever played. ...\n",
       "16          10.0  fantastic game. got me hooked on games all ove...\n",
       "...          ...                                                ...\n",
       "13170066     3.0        horrible party game.  i'm dumping this one \n",
       "13170067     3.0  difficult to build anything at all with the in...\n",
       "13170069     3.0  lego created a version of pictionary  only you...\n",
       "13170070     2.0  this game is very similar to creationary. it c...\n",
       "13170071     2.0  this game was really bad.  worst that i've pla...\n",
       "\n",
       "[2478107 rows x 2 columns]"
      ]
     },
     "execution_count": 23,
     "metadata": {},
     "output_type": "execute_result"
    }
   ],
   "source": [
    "reviews_df"
   ]
  },
  {
   "cell_type": "code",
   "execution_count": 24,
   "metadata": {},
   "outputs": [],
   "source": [
    "#df = reviews_df.sample(100000)\n",
    "df = reviews_df"
   ]
  },
  {
   "cell_type": "markdown",
   "metadata": {},
   "source": [
    "# Building Classification models. \n",
    "### we know for text analysis Naive bayes, SVM, are good and KNN is not that good."
   ]
  },
  {
   "cell_type": "markdown",
   "metadata": {},
   "source": [
    "### We will divide data into Train set, Dev set and Test set. We will train the classifier with train set then evaluate it with dev set and retrain to get best value for parameters of the model we test this refined model with test data."
   ]
  },
  {
   "cell_type": "markdown",
   "metadata": {},
   "source": [
    "#### We are dividing our dataframe to train dataframe, dev dataframe and test data frame."
   ]
  },
  {
   "cell_type": "code",
   "execution_count": 26,
   "metadata": {},
   "outputs": [],
   "source": [
    "df, test_df = train_test_split(df, test_size=0.20)"
   ]
  },
  {
   "cell_type": "code",
   "execution_count": 27,
   "metadata": {},
   "outputs": [],
   "source": [
    "train_df, dev_df = train_test_split(df, test_size=0.20)"
   ]
  },
  {
   "cell_type": "code",
   "execution_count": 28,
   "metadata": {},
   "outputs": [
    {
     "data": {
      "text/plain": [
       "Text(0.5, 0, 'Rating')"
      ]
     },
     "execution_count": 28,
     "metadata": {},
     "output_type": "execute_result"
    },
    {
     "data": {
      "image/png": "[encoded data removed]",
      "text/plain": [
       "<Figure size 1224x576 with 3 Axes>"
      ]
     },
     "metadata": {
      "needs_background": "light"
     },
     "output_type": "display_data"
    }
   ],
   "source": [
    "fig, axes = plt.subplots(ncols=3)\n",
    "\n",
    "plot1 = train_df.rating.value_counts().sort_index().plot(kind='bar', legend=True, rot=0, ax=axes[0])\n",
    "plot1.set_title(\"Train\")\n",
    "plot1.set_xlabel(\"Rating\")\n",
    "plot1.set_ylabel(\"number of retings\")\n",
    "plot2 = test_df.rating.value_counts().sort_index().plot(kind='bar', legend=True, rot=0, ax=axes[1])\n",
    "plot2.set_title(\"Test\")\n",
    "plot2.set_xlabel(\"Rating\")\n",
    "plot3 = dev_df.rating.value_counts().sort_index().plot(kind='bar', legend=True, rot=0,figsize=(17, 8))\n",
    "plot3.set_title(\"Dev\")\n",
    "plot3.set_xlabel(\"Rating\")"
   ]
  },
  {
   "cell_type": "markdown",
   "metadata": {},
   "source": [
    "### To train any model we need to convert text to TF IDF form \n",
    "#### The formula that is used to compute the tf-idf for a term t of a document d in a document set is \n",
    "#### tf-idf(t, d) = tf(t, d) * idf(t), and the idf is computed as idf(d, t) = log [ (1 + n) / (1 + df(d, t)) ] + 1. where n is the total number of documents in the document set and df(t) is the document frequency of t; the document frequency is the number of documents in the document set that contain the term t. The effect of adding “1” to the idf in the equation above is that terms with zero idf, i.e., terms that occur in all documents in a training set\n",
    "\n",
    "#### We take only Train data set to calculate n."
   ]
  },
  {
   "cell_type": "code",
   "execution_count": 29,
   "metadata": {},
   "outputs": [],
   "source": [
    "# we are selecting top 1000 words droping other low friquency words\n",
    "\n",
    "tfidf = TfidfVectorizer(max_features=1000)\n",
    "\n",
    "# transforming traing data to tfidf form arrays. we can use this to train any model\n",
    "x_train = tfidf.fit_transform(train_df['comment']).toarray()\n",
    "y_train = np.asarray(train_df['rating'])"
   ]
  },
  {
   "cell_type": "code",
   "execution_count": 30,
   "metadata": {},
   "outputs": [],
   "source": [
    "x_dev = tfidf.transform(dev_df['comment']).toarray()\n",
    "y_dev = np.asarray(dev_df['rating'])"
   ]
  },
  {
   "cell_type": "code",
   "execution_count": 31,
   "metadata": {},
   "outputs": [
    {
     "name": "stdout",
     "output_type": "stream",
     "text": [
      "(1585988, 1000)\n",
      "(1585988,)\n",
      "(396497, 1000)\n",
      "(396497,)\n"
     ]
    }
   ],
   "source": [
    "print(x_train.shape)\n",
    "print(y_train.shape)\n",
    "print(x_dev.shape)\n",
    "print(y_dev.shape)"
   ]
  },
  {
   "cell_type": "markdown",
   "metadata": {},
   "source": [
    "#### First we will try with the Naive Bayes model. As this is text analysis and our vector contains values between 0 to 1 not just binary values we will use Multinomial Naive Bayes (MNB)."
   ]
  },
  {
   "cell_type": "code",
   "execution_count": 32,
   "metadata": {},
   "outputs": [
    {
     "name": "stdout",
     "output_type": "stream",
     "text": [
      "Mean Squared Error = 3.047339576339796\n",
      "Accuracy = 30.555590584544145\n"
     ]
    }
   ],
   "source": [
    "mnb = MultinomialNB(alpha=1)\n",
    "mnb.fit(x_train, y_train)\n",
    "y_dev_pred_mnb = mnb.predict(x_dev)\n",
    "\n",
    "# Calculate the Mean Squared Error and Accuracy\n",
    "mse_mnb = mean_squared_error(y_dev, y_dev_pred_mnb)\n",
    "accuracy_mnb = accuracy_score(y_dev, y_dev_pred_mnb)*100\n",
    "\n",
    "# Print the Mean Squared Error and Accuracy\n",
    "print(f'Mean Squared Error = {mse_mnb}')\n",
    "print(f'Accuracy = {accuracy_mnb}')"
   ]
  },
  {
   "cell_type": "code",
   "execution_count": 33,
   "metadata": {},
   "outputs": [
    {
     "name": "stdout",
     "output_type": "stream",
     "text": [
      "Mean Squared Error = 3.0467973275964257 for alpha = 0.01\n",
      "Accuracy = 30.55962592402969 for alpha = 0.01\n",
      "Mean Squared Error = 3.0469360423912413 for alpha = 0.1\n",
      "Accuracy = 30.559878132747535 for alpha = 0.1\n",
      "Mean Squared Error = 3.0471151105809122 for alpha = 0.5\n",
      "Accuracy = 30.557608254286915 for alpha = 0.5\n",
      "Mean Squared Error = 3.047339576339796 for alpha = 1\n",
      "Accuracy = 30.555590584544145 for alpha = 1\n",
      "Mean Squared Error = 3.0479499214369845 for alpha = 2\n",
      "Accuracy = 30.555338375826295 for alpha = 2\n"
     ]
    }
   ],
   "source": [
    "# Train and Predict the data using Multinomial Naive Bayes with below alpha values.\n",
    "alpha = [0.01, .1, 0.5, 1, 2]\n",
    "mnb = {}\n",
    "mse_mnb = {}\n",
    "accuracy_mnb = {}\n",
    "y_dev_pred_mnb = {}\n",
    "for a in alpha:\n",
    "    mnb[a] = MultinomialNB(alpha=a)\n",
    "    mnb[a].fit(x_train, y_train)\n",
    "    \n",
    "    y_dev_pred_mnb[a] = (mnb[a].predict(x_dev))\n",
    "\n",
    "    # Calculate the Mean Squared Error and Accuracy\n",
    "    mse_mnb[a] = mean_squared_error(y_dev, y_dev_pred_mnb[a])\n",
    "    accuracy_mnb[a] = accuracy_score(y_dev, y_dev_pred_mnb[a])*100\n",
    "\n",
    "    # Print the Mean Squared Error and Accuracy\n",
    "    print(f'Mean Squared Error = {mse_mnb[a]} for alpha = {a}')\n",
    "    print(f'Accuracy = {accuracy_mnb[a]} for alpha = {a}')"
   ]
  },
  {
   "cell_type": "markdown",
   "metadata": {},
   "source": [
    "### We got the best MSE for alpha =.05 but we got best accuracy for alpha = .1, which one to choose is based on our requirement. Here we will chose alpha = .1 "
   ]
  },
  {
   "cell_type": "code",
   "execution_count": 34,
   "metadata": {},
   "outputs": [],
   "source": [
    "# Storing MSE and Accuracy for future comparison\n",
    "mse = {}\n",
    "accuracy = {}\n",
    "model = {}\n",
    "model[\"MNB\"] = mnb\n",
    "mse[\"MNB\"] = mse_mnb\n",
    "accuracy[\"MNB\"] = accuracy_mnb"
   ]
  },
  {
   "cell_type": "markdown",
   "metadata": {},
   "source": [
    "## We will try Support Vector Machines (SVMs)"
   ]
  },
  {
   "cell_type": "code",
   "execution_count": 35,
   "metadata": {},
   "outputs": [
    {
     "name": "stdout",
     "output_type": "stream",
     "text": [
      "Mean Squared Error = 2.881683846283831 for C = 0.01\n",
      "Accuracy = 31.76871451738601 for C = 0.01\n",
      "Mean Squared Error = 2.8787506588952754 for C = 0.1\n",
      "Accuracy = 31.80074502455252 for C = 0.1\n",
      "Mean Squared Error = 2.8786548195824935 for C = 1\n",
      "Accuracy = 31.806545825062987 for C = 1\n",
      "Mean Squared Error = 2.878314337813401 for C = 10\n",
      "Accuracy = 31.804780364038066 for C = 10\n",
      "Mean Squared Error = 2.8786447312337797 for C = 100\n",
      "Accuracy = 31.80578919890945 for C = 100\n"
     ]
    }
   ],
   "source": [
    "C = [0.01, 0.1, 1, 10, 100]\n",
    "svm = {}\n",
    "mse_svm = {}\n",
    "accuracy_svm = {}\n",
    "y_dev_pred_svm = {}\n",
    "for c in C:\n",
    "    svm[c] = LinearSVC(C=c, dual = False)\n",
    "    svm[c].fit(x_train, y_train)\n",
    "    \n",
    "    y_dev_pred_svm[c] = (svm[c].predict(x_dev))\n",
    "\n",
    "    # Calculate the Mean Squared Error and Accuracy\n",
    "    mse_svm[c] = mean_squared_error(y_dev, y_dev_pred_svm[c])\n",
    "    accuracy_svm[c] = accuracy_score(y_dev, y_dev_pred_svm[c])*100\n",
    "\n",
    "    # Print the Mean Squared Error and Accuracy\n",
    "    print(f'Mean Squared Error = {mse_svm[c]} for C = {c}')\n",
    "    print(f'Accuracy = {accuracy_svm[c]} for C = {c}')"
   ]
  },
  {
   "cell_type": "markdown",
   "metadata": {},
   "source": [
    "### Here we got the best MSE and best accuracy for C = 1, so we can directly choose C = 1. but the difference in accuracy is very less. Also SVM looks better than Naive Bayes"
   ]
  },
  {
   "cell_type": "code",
   "execution_count": 36,
   "metadata": {},
   "outputs": [],
   "source": [
    "# seving model information to use for ensemble models. \n",
    "model['SVM'] = svm\n",
    "mse['SVM'] = mse_svm\n",
    "accuracy['SVM'] = accuracy_svm"
   ]
  },
  {
   "cell_type": "markdown",
   "metadata": {},
   "source": [
    "#### Let us create an Ensemble model using these 10 models we have from MNB and SVM. I am directly using what I learnt from class here. I have not seen anyone use Ensemble model like this. Here I am running data with all models  I am selecting the most common value. I am also trying to give weightage based on accuracy of the model."
   ]
  },
  {
   "cell_type": "code",
   "execution_count": 42,
   "metadata": {},
   "outputs": [],
   "source": [
    "def ensemble(x):\n",
    "    x_array = tfidf.transform(x).toarray()\n",
    "    y_pred_dict = {}\n",
    "    for a in alpha:\n",
    "        y_pred = model['MNB'][a].predict(x_array)[0]\n",
    "        if y_pred in y_pred_dict:\n",
    "            y_pred_dict[y_pred] += (accuracy['MNB'][a])\n",
    "        else:\n",
    "            y_pred_dict[y_pred] = (accuracy['MNB'][a])\n",
    "            \n",
    "    for c in C:\n",
    "        y_pred = model['SVM'][c].predict(x_array)[0]\n",
    "        if y_pred in y_pred_dict:\n",
    "            y_pred_dict[y_pred] += (accuracy['SVM'][c])\n",
    "        else:\n",
    "            y_pred_dict[y_pred] = (accuracy['SVM'][c])\n",
    "        \n",
    "    inverse = [(value, key) for key, value in y_pred_dict.items()]\n",
    "    return max(inverse)[1]"
   ]
  },
  {
   "cell_type": "code",
   "execution_count": 45,
   "metadata": {},
   "outputs": [
    {
     "name": "stdout",
     "output_type": "stream",
     "text": [
      "Mean Squared Error = 2.8813357982532026\n",
      "Accuracy = 31.76190488200415\n"
     ]
    }
   ],
   "source": [
    "y_dev_pred_ens = []\n",
    "\n",
    "for index, row in dev_df.iterrows():\n",
    "    y_dev_pred_ens.append(ensemble([row['comment']]))\n",
    "    \n",
    "\n",
    "# Calculate the Mean Squared Error and Accuracy\n",
    "mse_ens = mean_squared_error(y_dev, y_dev_pred_ens)\n",
    "accuracy_ens = accuracy_score(y_dev, y_dev_pred_ens)*100\n",
    "\n",
    "# Print the Mean Squared Error and Accuracy\n",
    "print(f'Mean Squared Error = {mse_ens}')\n",
    "print(f'Accuracy = {accuracy_ens}')\n",
    "    "
   ]
  },
  {
   "cell_type": "markdown",
   "metadata": {},
   "source": [
    "### Accuracy is same as some of SVM models, not increased as expected because for ensamble to work, models should be independent of each other, accuracy of each model should be greater than the random chance, and there should be more then two models. our models are not independent as we are using almost the same models with only created using difference in parameter."
   ]
  },
  {
   "cell_type": "markdown",
   "metadata": {},
   "source": [
    "### Let us try the Random forest classifier. Random forest uses Decision trees with ensembles."
   ]
  },
  {
   "cell_type": "code",
   "execution_count": 37,
   "metadata": {},
   "outputs": [
    {
     "name": "stdout",
     "output_type": "stream",
     "text": [
      "Mean Squared Error = 3.8618173655790584 for C = 1\n",
      "Accuracy = 26.693518488160063 for C = 1\n",
      "Mean Squared Error = 3.432066320804445 for C = 10\n",
      "Accuracy = 28.87537610625049 for C = 10\n",
      "Mean Squared Error = 3.3534932168465335 for C = 50\n",
      "Accuracy = 29.78685841254789 for C = 50\n"
     ]
    }
   ],
   "source": [
    "estimators = [1, 10, 50]\n",
    "rfc = {}\n",
    "mse_rfc = {}\n",
    "accuracy_rfc = {}\n",
    "y_dev_pred_rfc = {}\n",
    "for n in estimators:\n",
    "    rfc[n] = RandomForestClassifier(max_depth=25, n_estimators=n)\n",
    "    rfc[n].fit(x_train, y_train)\n",
    "    \n",
    "    y_dev_pred_rfc[n] = (rfc[n].predict(x_dev))\n",
    "\n",
    "    # Calculate the Mean Squared Error and Accuracy\n",
    "    mse_rfc[n] = mean_squared_error(y_dev, y_dev_pred_rfc[n])\n",
    "    accuracy_rfc[n] = accuracy_score(y_dev, y_dev_pred_rfc[n])*100\n",
    "\n",
    "    # Print the Mean Squared Error and Accuracy\n",
    "    print(f'Mean Squared Error = {mse_rfc[n]} for n = {n}')\n",
    "    print(f'Accuracy = {accuracy_rfc[n]} for n = {n}')"
   ]
  },
  {
   "cell_type": "code",
   "execution_count": 38,
   "metadata": {},
   "outputs": [],
   "source": [
    "# Saving models\n",
    "model['RFC'] = rfc\n",
    "mse['RFC'] = mse_rfc\n",
    "accuracy['RFC'] = accuracy_rfc"
   ]
  },
  {
   "cell_type": "markdown",
   "metadata": {},
   "source": [
    "#### Random Forest Classifier Accuracy is very less then other two models, but this is bit different model then other models so lets try this with other models in ensemble."
   ]
  },
  {
   "cell_type": "code",
   "execution_count": 47,
   "metadata": {},
   "outputs": [],
   "source": [
    "def ensemble1(x):\n",
    "    x_array = tfidf.transform(x).toarray()\n",
    "    y_pred_dict = {}\n",
    "    for a in alpha:\n",
    "        y_pred = model['MNB'][a].predict(x_array)[0]\n",
    "        if y_pred in y_pred_dict:\n",
    "            y_pred_dict[y_pred] += (accuracy['MNB'][a])\n",
    "        else:\n",
    "            y_pred_dict[y_pred] = (accuracy['MNB'][a])\n",
    "            \n",
    "    for c in C:\n",
    "        y_pred = model['SVM'][c].predict(x_array)[0]\n",
    "        if y_pred in y_pred_dict:\n",
    "            y_pred_dict[y_pred] += (accuracy['SVM'][c])\n",
    "        else:\n",
    "            y_pred_dict[y_pred] = (accuracy['SVM'][c])\n",
    "            \n",
    "    for n in estimators:\n",
    "        y_pred = model['ENS'][n].predict(x_array)[0]\n",
    "        if y_pred in y_pred_dict:\n",
    "            y_pred_dict[y_pred] += (accuracy['ENS'][n])\n",
    "        else:\n",
    "            y_pred_dict[y_pred] = (accuracy['ENS'][n])\n",
    "        \n",
    "    inverse = [(value, key) for key, value in y_pred_dict.items()]\n",
    "    return max(inverse)[1]"
   ]
  },
  {
   "cell_type": "code",
   "execution_count": 48,
   "metadata": {},
   "outputs": [
    {
     "name": "stdout",
     "output_type": "stream",
     "text": [
      "Mean Squared Error = 2.9767261795171214\n",
      "Accuracy = 31.20729791145961\n"
     ]
    }
   ],
   "source": [
    "y_dev_pred_ens1 = []\n",
    "for index, row in dev_df.iterrows():\n",
    "    y_dev_pred_ens1.append(ensemble1([row['comment']]))\n",
    "\n",
    "y_dev = np.asarray(dev_df['rating'])\n",
    "# Calculate the Mean Squared Error and Accuracy\n",
    "mse_ens = mean_squared_error(y_dev, y_dev_pred_ens1)\n",
    "accuracy_ens = accuracy_score(y_dev, y_dev_pred_ens1)*100\n",
    "\n",
    "# Print the Mean Squared Error and Accuracy\n",
    "print(f'Mean Squared Error = {mse_ens}')\n",
    "print(f'Accuracy = {accuracy_ens}')\n",
    "    "
   ]
  },
  {
   "cell_type": "markdown",
   "metadata": {},
   "source": [
    "#### We don't see any increase in accuracy, this may still be due to models being not independent and low accuracy of Random Forest Classifier."
   ]
  },
  {
   "cell_type": "markdown",
   "metadata": {},
   "source": [
    "#### We don't see any accuracy in the above method so lets create different MNB and SVM models using the bagging method. Here I am not using traditional bagging as we have a lot of data I am sampling 20000 records from the main dataset using it for training and evaluation. "
   ]
  },
  {
   "cell_type": "code",
   "execution_count": 54,
   "metadata": {},
   "outputs": [
    {
     "name": "stdout",
     "output_type": "stream",
     "text": [
      "Mean Squared Error of MNB = 3.5055\n",
      "Accuracy of MNB = 27.500000000000004\n",
      "Mean Squared Error of SVM = 3.31425\n",
      "Accuracy of SVM = 27.700000000000003\n",
      "Mean Squared Error of MNB = 3.72425\n",
      "Accuracy of MNB = 27.750000000000004\n",
      "Mean Squared Error of SVM = 3.4325\n",
      "Accuracy of SVM = 28.15\n",
      "Mean Squared Error of MNB = 3.59625\n",
      "Accuracy of MNB = 27.175\n",
      "Mean Squared Error of SVM = 3.343\n",
      "Accuracy of SVM = 27.224999999999998\n",
      "Mean Squared Error of MNB = 3.6135\n",
      "Accuracy of MNB = 27.825\n",
      "Mean Squared Error of SVM = 3.45025\n",
      "Accuracy of SVM = 27.575\n",
      "Mean Squared Error of MNB = 3.687\n",
      "Accuracy of MNB = 28.1\n",
      "Mean Squared Error of SVM = 3.3765\n",
      "Accuracy of SVM = 27.85\n"
     ]
    }
   ],
   "source": [
    "smpl_model = []\n",
    "smpl_accuracy = []\n",
    "smpl_mse = []\n",
    "for i in range(5):\n",
    "    smpl_df = reviews_df.sample(20000)\n",
    "    smpl_tfidf = TfidfVectorizer(max_features=200)\n",
    "    \n",
    "    smpl_train_df, smpl_dev_df = train_test_split(smpl_df, test_size=0.20)\n",
    "\n",
    "    # transforming traing data to smpl_tfidf form arrays. we can use this to train any model\n",
    "    x_smpl_train = smpl_tfidf.fit_transform(smpl_train_df['comment']).toarray()\n",
    "    y_smpl_train = np.asarray(smpl_train_df['rating'])\n",
    "    \n",
    "    x_smpl_dev = smpl_tfidf.transform(smpl_dev_df['comment']).toarray()\n",
    "    y_smpl_dev = np.asarray(smpl_dev_df['rating'])\n",
    "    \n",
    "    smpl_mnb = MultinomialNB(alpha=.1)\n",
    "    smpl_mnb.fit(x_smpl_train, y_smpl_train)\n",
    "    y_dev_pred_smpl_mnb = smpl_mnb.predict(x_smpl_dev)\n",
    "\n",
    "    # Calculate the Mean Squared Error and Accuracy\n",
    "    mse_smpl_mnb = mean_squared_error(y_smpl_dev, y_dev_pred_smpl_mnb)\n",
    "    accuracy_smpl_mnb = accuracy_score(y_smpl_dev, y_dev_pred_smpl_mnb)*100\n",
    "\n",
    "    # Print the Mean Squared Error and Accuracy\n",
    "    print(f'Mean Squared Error of MNB = {mse_smpl_mnb}')\n",
    "    print(f'Accuracy of MNB = {accuracy_smpl_mnb}')\n",
    "    \n",
    "    smpl_svm = LinearSVC(C=1, dual = False)\n",
    "    smpl_svm.fit(x_smpl_train, y_smpl_train)\n",
    "    \n",
    "    y_dev_pred_smpl_svm = (smpl_svm.predict(x_smpl_dev))\n",
    "\n",
    "    # Calculate the Mean Squared Error and Accuracy\n",
    "    mse_smpl_svm = mean_squared_error(y_smpl_dev, y_dev_pred_smpl_svm)\n",
    "    accuracy_smpl_svm = accuracy_score(y_smpl_dev, y_dev_pred_smpl_svm)*100\n",
    "\n",
    "    # Print the Mean Squared Error and Accuracy\n",
    "    print(f'Mean Squared Error of SVM = {mse_smpl_svm}')\n",
    "    print(f'Accuracy of SVM = {accuracy_smpl_svm}')\n",
    "    \n",
    "    smpl_model.append(smpl_mnb)\n",
    "    smpl_model.append(smpl_svm)\n",
    "    smpl_accuracy.append(accuracy_smpl_mnb)\n",
    "    smpl_accuracy.append(accuracy_smpl_svm)\n",
    "    smpl_mse.append(mse_smpl_mnb)\n",
    "    smpl_mse.append(mse_smpl_svm)\n",
    "    "
   ]
  },
  {
   "cell_type": "markdown",
   "metadata": {},
   "source": [
    "### Accuracy is not that good but let us try ensemble methods using these models."
   ]
  },
  {
   "cell_type": "code",
   "execution_count": 57,
   "metadata": {},
   "outputs": [],
   "source": [
    "def ensemble2(x):\n",
    "    x_smpl_array = smpl_tfidf.transform(x).toarray()\n",
    "    y_smpl_pred_dict = {}\n",
    "    for i in range(10):\n",
    "        y_pred = smpl_model[i].predict(x_smpl_array)[0]\n",
    "        if y_pred in y_smpl_pred_dict:\n",
    "            y_smpl_pred_dict[y_pred] += (smpl_accuracy[i])\n",
    "        else:\n",
    "            y_smpl_pred_dict[y_pred] = (smpl_accuracy[i])\n",
    "        \n",
    "    inverse = [(value, key) for key, value in y_smpl_pred_dict.items()]\n",
    "    return max(inverse)[1]"
   ]
  },
  {
   "cell_type": "code",
   "execution_count": 58,
   "metadata": {},
   "outputs": [
    {
     "name": "stdout",
     "output_type": "stream",
     "text": [
      "Mean Squared Error = 3.588660191628184\n",
      "Accuracy = 27.74926418106568\n"
     ]
    }
   ],
   "source": [
    "y_dev_pred_ens2 = []\n",
    "for index, row in dev_df.iterrows():\n",
    "    y_dev_pred_ens2.append(ensemble2([row['comment']]))\n",
    "\n",
    "y_dev = np.asarray(dev_df['rating'])\n",
    "# Calculate the Mean Squared Error and Accuracy\n",
    "mse_ens = mean_squared_error(y_dev, y_dev_pred_ens2)\n",
    "accuracy_ens = accuracy_score(y_dev, y_dev_pred_ens2)*100\n",
    "\n",
    "# Print the Mean Squared Error and Accuracy\n",
    "print(f'Mean Squared Error = {mse_ens}')\n",
    "print(f'Accuracy = {accuracy_ens}')\n",
    "    "
   ]
  },
  {
   "cell_type": "markdown",
   "metadata": {},
   "source": [
    "### We don't find any increase in accuracy by this ensemble.This maybe due to low accuracy of each model, and also looks mainly due to dependency of each model we are using. "
   ]
  },
  {
   "cell_type": "markdown",
   "metadata": {},
   "source": [
    "## Conclusion    \n",
    "#### We have tried Multinomial Naive Bayse, SVM, Random forest classifier. and ensembles with these classifiers and ensembles with data bagging. Here SVM gave the best accuracy, ensemble model should have done better but as we are using almost the same(dependent) models with less accuracy, ensemble model didn't do as expected. So I will take the SVM model with alpha 1 for my model testing."
   ]
  },
  {
   "cell_type": "markdown",
   "metadata": {},
   "source": [
    "## Testing\n",
    "#### We will use test data on our best model - SVM with C = 1 to test this program."
   ]
  },
  {
   "cell_type": "code",
   "execution_count": 59,
   "metadata": {},
   "outputs": [],
   "source": [
    "x_test = tfidf.transform(test_df['comment']).toarray()\n",
    "y_test = np.asarray(test_df['rating'])"
   ]
  },
  {
   "cell_type": "code",
   "execution_count": 61,
   "metadata": {},
   "outputs": [
    {
     "name": "stdout",
     "output_type": "stream",
     "text": [
      "Mean Squared Error test = 2.8612087437603657\n",
      "Accuracy test = 31.863597661120775\n"
     ]
    }
   ],
   "source": [
    "c=1\n",
    "y_test_pred = (svm[c].predict(x_test))\n",
    "\n",
    "# Calculate the Mean Squared Error and Accuracy\n",
    "mse_test = mean_squared_error(y_test, y_test_pred)\n",
    "accuracy_test = accuracy_score(y_test, y_test_pred)*100\n",
    "\n",
    "# Print the Mean Squared Error and Accuracy\n",
    "print(f'Mean Squared Error test = {mse_test}')\n",
    "print(f'Accuracy test = {accuracy_test}')\n"
   ]
  },
  {
   "cell_type": "code",
   "execution_count": 51,
   "metadata": {},
   "outputs": [
    {
     "name": "stdout",
     "output_type": "stream",
     "text": [
      "Enter your comment :worst game ever\n",
      "1.0\n"
     ]
    }
   ],
   "source": [
    "x = input('Enter your comment :')\n",
    "print(ensemble([x]))"
   ]
  },
  {
   "cell_type": "markdown",
   "metadata": {},
   "source": [
    "###### Take backup of model and tfidf\n",
    "Reference: https://medium.com/datadriveninvestor/deploy-your-machine-learning-model-using-flask-made-easy-now-635d2f12c50c  "
   ]
  },
  {
   "cell_type": "code",
   "execution_count": 43,
   "metadata": {},
   "outputs": [],
   "source": [
    "import pickle\n",
    "\n",
    "pickle.dump(model, open('model.pkl', 'wb'))\n",
    "pickle.dump(tfidf, open('tfidf.pkl', 'wb'))\n",
    "pickle.dump(accuracy, open('accuracy.pkl', 'wb'))"
   ]
  },
  {
   "cell_type": "code",
   "execution_count": 44,
   "metadata": {},
   "outputs": [],
   "source": [
    "pickle.dump(svm[1], open('svm1.pkl', 'wb'))"
   ]
  }
 ],
 "metadata": {
  "kernelspec": {
   "display_name": "Python 3",
   "language": "python",
   "name": "python3"
  },
  "language_info": {
   "codemirror_mode": {
    "name": "ipython",
    "version": 3
   },
   "file_extension": ".py",
   "mimetype": "text/x-python",
   "name": "python",
   "nbconvert_exporter": "python",
   "pygments_lexer": "ipython3",
   "version": "3.7.4"
  }
 },
 "nbformat": 4,
 "nbformat_minor": 4
}
