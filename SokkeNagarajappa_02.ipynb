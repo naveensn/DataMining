{
 "cells": [
  {
   "cell_type": "markdown",
   "metadata": {},
   "source": [
    "# Assignment #2 \n",
    "## The goal of this assignment is to learn about the kNN.  \n"
   ]
  },
  {
   "cell_type": "markdown",
   "metadata": {},
   "source": [
    "### Importing the data set and devideing it into dev and test dataframes."
   ]
  },
  {
   "cell_type": "code",
   "execution_count": 1,
   "metadata": {},
   "outputs": [],
   "source": [
    "import pandas as pd             # data processing, CSV file I/O (e.g. pd.read_csv)\n",
    "from sklearn.model_selection import train_test_split\n",
    "import math\n",
    "from collections import Counter\n",
    "import numpy as np\n",
    "import matplotlib.pyplot as plt\n",
    "\n",
    "# importing data and adding colomn names.\n",
    "iris_df = pd.read_csv(\"bezdekIris.data\", names = ['sepal length', 'sepal width', 'petal length', 'petal width', 'class'])"
   ]
  },
  {
   "cell_type": "code",
   "execution_count": 2,
   "metadata": {},
   "outputs": [
    {
     "data": {
      "text/html": [
       "<div>\n",
       "<style scoped>\n",
       "    .dataframe tbody tr th:only-of-type {\n",
       "        vertical-align: middle;\n",
       "    }\n",
       "\n",
       "    .dataframe tbody tr th {\n",
       "        vertical-align: top;\n",
       "    }\n",
       "\n",
       "    .dataframe thead th {\n",
       "        text-align: right;\n",
       "    }\n",
       "</style>\n",
       "<table border=\"1\" class=\"dataframe\">\n",
       "  <thead>\n",
       "    <tr style=\"text-align: right;\">\n",
       "      <th></th>\n",
       "      <th>sepal length</th>\n",
       "      <th>sepal width</th>\n",
       "      <th>petal length</th>\n",
       "      <th>petal width</th>\n",
       "      <th>class</th>\n",
       "    </tr>\n",
       "  </thead>\n",
       "  <tbody>\n",
       "    <tr>\n",
       "      <th>0</th>\n",
       "      <td>5.1</td>\n",
       "      <td>3.5</td>\n",
       "      <td>1.4</td>\n",
       "      <td>0.2</td>\n",
       "      <td>Iris-setosa</td>\n",
       "    </tr>\n",
       "    <tr>\n",
       "      <th>1</th>\n",
       "      <td>4.9</td>\n",
       "      <td>3.0</td>\n",
       "      <td>1.4</td>\n",
       "      <td>0.2</td>\n",
       "      <td>Iris-setosa</td>\n",
       "    </tr>\n",
       "    <tr>\n",
       "      <th>2</th>\n",
       "      <td>4.7</td>\n",
       "      <td>3.2</td>\n",
       "      <td>1.3</td>\n",
       "      <td>0.2</td>\n",
       "      <td>Iris-setosa</td>\n",
       "    </tr>\n",
       "    <tr>\n",
       "      <th>3</th>\n",
       "      <td>4.6</td>\n",
       "      <td>3.1</td>\n",
       "      <td>1.5</td>\n",
       "      <td>0.2</td>\n",
       "      <td>Iris-setosa</td>\n",
       "    </tr>\n",
       "    <tr>\n",
       "      <th>4</th>\n",
       "      <td>5.0</td>\n",
       "      <td>3.6</td>\n",
       "      <td>1.4</td>\n",
       "      <td>0.2</td>\n",
       "      <td>Iris-setosa</td>\n",
       "    </tr>\n",
       "  </tbody>\n",
       "</table>\n",
       "</div>"
      ],
      "text/plain": [
       "   sepal length  sepal width  petal length  petal width        class\n",
       "0           5.1          3.5           1.4          0.2  Iris-setosa\n",
       "1           4.9          3.0           1.4          0.2  Iris-setosa\n",
       "2           4.7          3.2           1.3          0.2  Iris-setosa\n",
       "3           4.6          3.1           1.5          0.2  Iris-setosa\n",
       "4           5.0          3.6           1.4          0.2  Iris-setosa"
      ]
     },
     "execution_count": 2,
     "metadata": {},
     "output_type": "execute_result"
    }
   ],
   "source": [
    "#checking how the data looks.\n",
    "iris_df.head()"
   ]
  },
  {
   "cell_type": "code",
   "execution_count": 3,
   "metadata": {},
   "outputs": [],
   "source": [
    "#dividing data into development set and testing set in 75:25 ratio\n",
    "dev_df, test_df = train_test_split(iris_df, test_size=0.25)"
   ]
  },
  {
   "cell_type": "markdown",
   "metadata": {},
   "source": [
    "## development data sample"
   ]
  },
  {
   "cell_type": "code",
   "execution_count": 4,
   "metadata": {},
   "outputs": [
    {
     "name": "stdout",
     "output_type": "stream",
     "text": [
      "112\n"
     ]
    },
    {
     "data": {
      "text/html": [
       "<div>\n",
       "<style scoped>\n",
       "    .dataframe tbody tr th:only-of-type {\n",
       "        vertical-align: middle;\n",
       "    }\n",
       "\n",
       "    .dataframe tbody tr th {\n",
       "        vertical-align: top;\n",
       "    }\n",
       "\n",
       "    .dataframe thead th {\n",
       "        text-align: right;\n",
       "    }\n",
       "</style>\n",
       "<table border=\"1\" class=\"dataframe\">\n",
       "  <thead>\n",
       "    <tr style=\"text-align: right;\">\n",
       "      <th></th>\n",
       "      <th>sepal length</th>\n",
       "      <th>sepal width</th>\n",
       "      <th>petal length</th>\n",
       "      <th>petal width</th>\n",
       "      <th>class</th>\n",
       "    </tr>\n",
       "  </thead>\n",
       "  <tbody>\n",
       "    <tr>\n",
       "      <th>33</th>\n",
       "      <td>5.5</td>\n",
       "      <td>4.2</td>\n",
       "      <td>1.4</td>\n",
       "      <td>0.2</td>\n",
       "      <td>Iris-setosa</td>\n",
       "    </tr>\n",
       "    <tr>\n",
       "      <th>84</th>\n",
       "      <td>5.4</td>\n",
       "      <td>3.0</td>\n",
       "      <td>4.5</td>\n",
       "      <td>1.5</td>\n",
       "      <td>Iris-versicolor</td>\n",
       "    </tr>\n",
       "    <tr>\n",
       "      <th>80</th>\n",
       "      <td>5.5</td>\n",
       "      <td>2.4</td>\n",
       "      <td>3.8</td>\n",
       "      <td>1.1</td>\n",
       "      <td>Iris-versicolor</td>\n",
       "    </tr>\n",
       "    <tr>\n",
       "      <th>100</th>\n",
       "      <td>6.3</td>\n",
       "      <td>3.3</td>\n",
       "      <td>6.0</td>\n",
       "      <td>2.5</td>\n",
       "      <td>Iris-virginica</td>\n",
       "    </tr>\n",
       "    <tr>\n",
       "      <th>117</th>\n",
       "      <td>7.7</td>\n",
       "      <td>3.8</td>\n",
       "      <td>6.7</td>\n",
       "      <td>2.2</td>\n",
       "      <td>Iris-virginica</td>\n",
       "    </tr>\n",
       "  </tbody>\n",
       "</table>\n",
       "</div>"
      ],
      "text/plain": [
       "     sepal length  sepal width  petal length  petal width            class\n",
       "33            5.5          4.2           1.4          0.2      Iris-setosa\n",
       "84            5.4          3.0           4.5          1.5  Iris-versicolor\n",
       "80            5.5          2.4           3.8          1.1  Iris-versicolor\n",
       "100           6.3          3.3           6.0          2.5   Iris-virginica\n",
       "117           7.7          3.8           6.7          2.2   Iris-virginica"
      ]
     },
     "execution_count": 4,
     "metadata": {},
     "output_type": "execute_result"
    }
   ],
   "source": [
    "print(len(dev_df))\n",
    "dev_df.head()\n"
   ]
  },
  {
   "cell_type": "markdown",
   "metadata": {},
   "source": [
    "## test data sample."
   ]
  },
  {
   "cell_type": "code",
   "execution_count": 5,
   "metadata": {},
   "outputs": [
    {
     "name": "stdout",
     "output_type": "stream",
     "text": [
      "38\n"
     ]
    },
    {
     "data": {
      "text/html": [
       "<div>\n",
       "<style scoped>\n",
       "    .dataframe tbody tr th:only-of-type {\n",
       "        vertical-align: middle;\n",
       "    }\n",
       "\n",
       "    .dataframe tbody tr th {\n",
       "        vertical-align: top;\n",
       "    }\n",
       "\n",
       "    .dataframe thead th {\n",
       "        text-align: right;\n",
       "    }\n",
       "</style>\n",
       "<table border=\"1\" class=\"dataframe\">\n",
       "  <thead>\n",
       "    <tr style=\"text-align: right;\">\n",
       "      <th></th>\n",
       "      <th>sepal length</th>\n",
       "      <th>sepal width</th>\n",
       "      <th>petal length</th>\n",
       "      <th>petal width</th>\n",
       "      <th>class</th>\n",
       "    </tr>\n",
       "  </thead>\n",
       "  <tbody>\n",
       "    <tr>\n",
       "      <th>48</th>\n",
       "      <td>5.3</td>\n",
       "      <td>3.7</td>\n",
       "      <td>1.5</td>\n",
       "      <td>0.2</td>\n",
       "      <td>Iris-setosa</td>\n",
       "    </tr>\n",
       "    <tr>\n",
       "      <th>24</th>\n",
       "      <td>4.8</td>\n",
       "      <td>3.4</td>\n",
       "      <td>1.9</td>\n",
       "      <td>0.2</td>\n",
       "      <td>Iris-setosa</td>\n",
       "    </tr>\n",
       "    <tr>\n",
       "      <th>79</th>\n",
       "      <td>5.7</td>\n",
       "      <td>2.6</td>\n",
       "      <td>3.5</td>\n",
       "      <td>1.0</td>\n",
       "      <td>Iris-versicolor</td>\n",
       "    </tr>\n",
       "    <tr>\n",
       "      <th>20</th>\n",
       "      <td>5.4</td>\n",
       "      <td>3.4</td>\n",
       "      <td>1.7</td>\n",
       "      <td>0.2</td>\n",
       "      <td>Iris-setosa</td>\n",
       "    </tr>\n",
       "    <tr>\n",
       "      <th>144</th>\n",
       "      <td>6.7</td>\n",
       "      <td>3.3</td>\n",
       "      <td>5.7</td>\n",
       "      <td>2.5</td>\n",
       "      <td>Iris-virginica</td>\n",
       "    </tr>\n",
       "  </tbody>\n",
       "</table>\n",
       "</div>"
      ],
      "text/plain": [
       "     sepal length  sepal width  petal length  petal width            class\n",
       "48            5.3          3.7           1.5          0.2      Iris-setosa\n",
       "24            4.8          3.4           1.9          0.2      Iris-setosa\n",
       "79            5.7          2.6           3.5          1.0  Iris-versicolor\n",
       "20            5.4          3.4           1.7          0.2      Iris-setosa\n",
       "144           6.7          3.3           5.7          2.5   Iris-virginica"
      ]
     },
     "execution_count": 5,
     "metadata": {},
     "output_type": "execute_result"
    }
   ],
   "source": [
    "print(len(test_df))\n",
    "test_df.head()"
   ]
  },
  {
   "cell_type": "markdown",
   "metadata": {},
   "source": [
    "\n",
    "## Euclidian disatnce finding function to use in KNN function.\n"
   ]
  },
  {
   "cell_type": "code",
   "execution_count": 6,
   "metadata": {},
   "outputs": [],
   "source": [
    "def euclidean_distance(data1, data2):\n",
    "    squared_distance = 0\n",
    "    for i in range(len(data1) - 1):\n",
    "        squared_distance += (int(data1[i]) - int(data2[i]))**2\n",
    "    return math.sqrt(squared_distance)"
   ]
  },
  {
   "cell_type": "markdown",
   "metadata": {},
   "source": [
    "## cosine_similarity finding function to use in KNN function."
   ]
  },
  {
   "cell_type": "code",
   "execution_count": 7,
   "metadata": {},
   "outputs": [],
   "source": [
    "def cosine_similarity(data1, data2):\n",
    "    \n",
    "    dot_product = 0\n",
    "    len_data1 = 0\n",
    "    len_data2 = 0\n",
    "    \n",
    "    for i in range(len(data1) - 1):\n",
    "        dot_product += (int(data1[i]) * int(data2[i]))\n",
    "        len_data1   += int(data1[i])**2\n",
    "        len_data2   += int(data2[i])**2\n",
    "        \n",
    "    return (dot_product/math.sqrt(len_data1 * len_data2))\n",
    "    "
   ]
  },
  {
   "cell_type": "markdown",
   "metadata": {},
   "source": [
    "## normalized_euclidean_distance/Mahalanobis Distance finding function to use in KNN function."
   ]
  },
  {
   "cell_type": "code",
   "execution_count": 8,
   "metadata": {},
   "outputs": [],
   "source": [
    "cov_matrix = pd.DataFrame.cov(test_df)\n",
    "inv_cov = np.linalg.inv(cov_matrix)\n",
    "\n",
    "def normalized_euclidean_distance(data1, data2):\n",
    "    x_y = data1[:-1].sub(data2[:-1])\n",
    "    x_y_t = x_y.T\n",
    "    return ((x_y_t.dot(inv_cov)).dot(x_y))"
   ]
  },
  {
   "cell_type": "markdown",
   "metadata": {},
   "source": [
    "## KNN function. find the nearest 'k' neihgbors of 'data' point from 'dev_df' data frame using the 'distance_fun' function"
   ]
  },
  {
   "cell_type": "code",
   "execution_count": 9,
   "metadata": {},
   "outputs": [],
   "source": [
    "def knn(data, dev_df, k, distance_fun):\n",
    "    \n",
    "    neighbors_distance = []\n",
    "    # calculating disatance of data with each value in dev_df\n",
    "    for row in dev_df.iterrows():\n",
    "        # not calculating distance with itself.\n",
    "        if data[0] != row[0]:\n",
    "            distance = distance_fun(data[1], row[1])\n",
    "            neighbors_distance.append((distance, row[1][-1]))\n",
    "            \n",
    "    # points are nearer if cosine similarity is heigh\n",
    "    if distance_fun == cosine_similarity:\n",
    "        neighbors_distance = sorted(neighbors_distance, reverse=True)\n",
    "        \n",
    "    # points are nearer if distance is less\n",
    "    else:\n",
    "        neighbors_distance = sorted(neighbors_distance)\n",
    "    \n",
    "    #selecting k nearest values\n",
    "    k_neighbors_distance = neighbors_distance[:k]\n",
    "    \n",
    "    pred_class = [Counter(col).most_common(1)[0][0] for col in zip(*k_neighbors_distance)][-1]\n",
    "    \n",
    "    return ((data[0], pred_class))\n",
    "        "
   ]
  },
  {
   "cell_type": "markdown",
   "metadata": {},
   "source": [
    "## prdicting the class of data in Development data set Using KNN model using Euclidean Distance for K = [1, 3, 5, 7] and checking its accurecy"
   ]
  },
  {
   "cell_type": "code",
   "execution_count": 10,
   "metadata": {},
   "outputs": [
    {
     "data": {
      "text/plain": [
       "[0.8303571428571429,\n",
       " 0.8928571428571429,\n",
       " 0.9107142857142857,\n",
       " 0.8928571428571429]"
      ]
     },
     "execution_count": 10,
     "metadata": {},
     "output_type": "execute_result"
    }
   ],
   "source": [
    "K = [1, 3, 5, 7]\n",
    "euclid_dist_predictions = []  # to store predictions\n",
    "euclid_dist_accuracy = []          # to store predictions\n",
    "\n",
    "for k in K:\n",
    "    correct = 0       # number of correct predictions\n",
    "    euclid_dist_predictions.append([])\n",
    "    for row in dev_df.iterrows():\n",
    "        prediction = knn(row, dev_df, k, euclidean_distance)\n",
    "        euclid_dist_predictions[-1].append(prediction)\n",
    "\n",
    "        #checking if prediction is correct.\n",
    "        if prediction[-1] == row[1][-1]:\n",
    "            correct += 1\n",
    "\n",
    "    euclid_dist_accuracy.append(correct/len(dev_df))\n",
    "euclid_dist_accuracy"
   ]
  },
  {
   "cell_type": "markdown",
   "metadata": {},
   "source": [
    "## prdicting the class of data in Development data set Using KNN model using Cosine Similarity for K = [1, 3, 5, 7] and checking its accurecy"
   ]
  },
  {
   "cell_type": "code",
   "execution_count": 11,
   "metadata": {},
   "outputs": [
    {
     "data": {
      "text/plain": [
       "[0.8214285714285714, 0.875, 0.9285714285714286, 0.9196428571428571]"
      ]
     },
     "execution_count": 11,
     "metadata": {},
     "output_type": "execute_result"
    }
   ],
   "source": [
    "cos_sim_predictions = []   # to store predictions\n",
    "cos_sim_accuracy = []      # to store predictions\n",
    "\n",
    "for k in K:\n",
    "    correct = 0       # number of correct predictions\n",
    "    cos_sim_predictions.append([])\n",
    "    for row in dev_df.iterrows():\n",
    "        prediction = knn(row, dev_df, k, cosine_similarity)\n",
    "        cos_sim_predictions[-1].append(prediction)\n",
    "\n",
    "        #checking if prediction is correct.\n",
    "        if prediction[-1] == row[1][-1]:\n",
    "            correct += 1\n",
    "\n",
    "    cos_sim_accuracy.append(correct/len(dev_df))\n",
    "cos_sim_accuracy"
   ]
  },
  {
   "cell_type": "markdown",
   "metadata": {},
   "source": [
    "## prdicting the class of data in Development data set Using KNN model using Cosine Similarity for K = [1, 3, 5, 7] and checking its accurecy"
   ]
  },
  {
   "cell_type": "code",
   "execution_count": 12,
   "metadata": {},
   "outputs": [
    {
     "data": {
      "text/plain": [
       "[0.8660714285714286, 0.875, 0.8571428571428571, 0.8482142857142857]"
      ]
     },
     "execution_count": 12,
     "metadata": {},
     "output_type": "execute_result"
    }
   ],
   "source": [
    "norm_dist_predictions = []   # to store predictions\n",
    "norm_dist_accuracy = []      # to store predictions\n",
    "\n",
    "for k in K:\n",
    "    correct = 0       # number of correct predictions\n",
    "    norm_dist_predictions.append([])\n",
    "    for row in dev_df.iterrows():\n",
    "        prediction = knn(row, dev_df, k, normalized_euclidean_distance)\n",
    "        norm_dist_predictions[-1].append(prediction)\n",
    "\n",
    "        #checking if prediction is correct.\n",
    "        if prediction[-1] == row[1][-1]:\n",
    "            correct += 1\n",
    "\n",
    "    norm_dist_accuracy.append(correct/len(dev_df))\n",
    "norm_dist_accuracy"
   ]
  },
  {
   "cell_type": "markdown",
   "metadata": {},
   "source": [
    "## prdicting the class of data in Development data set Using KNN model using Cosine Similarity for K = 3 and checking its accurecy"
   ]
  },
  {
   "cell_type": "code",
   "execution_count": 13,
   "metadata": {},
   "outputs": [
    {
     "data": {
      "image/png": "[encoded data removed]",
      "text/plain": [
       "<Figure size 1080x720 with 1 Axes>"
      ]
     },
     "metadata": {
      "needs_background": "light"
     },
     "output_type": "display_data"
    }
   ],
   "source": [
    "\n",
    "df = pd.DataFrame({'cosine similarity': cos_sim_accuracy,\n",
    "                   'euclidian distance': euclid_dist_accuracy,\n",
    "                   'normalised euclidian distance': norm_dist_accuracy}, index=K)\n",
    "ax = df.plot(kind='bar', title =\"KNN Accurecy\", figsize=(15, 10), legend=True, fontsize=12, rot=0)\n",
    "ax.set_xlabel(\"K Value\", fontsize=12)\n",
    "ax.set_ylabel(\"Accuracy\", fontsize=12)\n",
    "plt.show()"
   ]
  },
  {
   "cell_type": "code",
   "execution_count": 14,
   "metadata": {},
   "outputs": [
    {
     "data": {
      "text/html": [
       "<div>\n",
       "<style scoped>\n",
       "    .dataframe tbody tr th:only-of-type {\n",
       "        vertical-align: middle;\n",
       "    }\n",
       "\n",
       "    .dataframe tbody tr th {\n",
       "        vertical-align: top;\n",
       "    }\n",
       "\n",
       "    .dataframe thead th {\n",
       "        text-align: right;\n",
       "    }\n",
       "</style>\n",
       "<table border=\"1\" class=\"dataframe\">\n",
       "  <thead>\n",
       "    <tr style=\"text-align: right;\">\n",
       "      <th></th>\n",
       "      <th>cosine similarity</th>\n",
       "      <th>euclidian distance</th>\n",
       "      <th>normalised euclidian distance</th>\n",
       "    </tr>\n",
       "  </thead>\n",
       "  <tbody>\n",
       "    <tr>\n",
       "      <th>1</th>\n",
       "      <td>0.821429</td>\n",
       "      <td>0.830357</td>\n",
       "      <td>0.866071</td>\n",
       "    </tr>\n",
       "    <tr>\n",
       "      <th>3</th>\n",
       "      <td>0.875000</td>\n",
       "      <td>0.892857</td>\n",
       "      <td>0.875000</td>\n",
       "    </tr>\n",
       "    <tr>\n",
       "      <th>5</th>\n",
       "      <td>0.928571</td>\n",
       "      <td>0.910714</td>\n",
       "      <td>0.857143</td>\n",
       "    </tr>\n",
       "    <tr>\n",
       "      <th>7</th>\n",
       "      <td>0.919643</td>\n",
       "      <td>0.892857</td>\n",
       "      <td>0.848214</td>\n",
       "    </tr>\n",
       "  </tbody>\n",
       "</table>\n",
       "</div>"
      ],
      "text/plain": [
       "   cosine similarity  euclidian distance  normalised euclidian distance\n",
       "1           0.821429            0.830357                       0.866071\n",
       "3           0.875000            0.892857                       0.875000\n",
       "5           0.928571            0.910714                       0.857143\n",
       "7           0.919643            0.892857                       0.848214"
      ]
     },
     "execution_count": 14,
     "metadata": {},
     "output_type": "execute_result"
    }
   ],
   "source": [
    "df.head()"
   ]
  },
  {
   "cell_type": "code",
   "execution_count": 20,
   "metadata": {},
   "outputs": [
    {
     "data": {
      "text/plain": [
       "cosine similarity                0.928571\n",
       "euclidian distance               0.910714\n",
       "normalised euclidian distance    0.875000\n",
       "dtype: float64"
      ]
     },
     "execution_count": 20,
     "metadata": {},
     "output_type": "execute_result"
    }
   ],
   "source": [
    "df.max(axis = 0)"
   ]
  },
  {
   "cell_type": "markdown",
   "metadata": {},
   "source": [
    "# cosine similarity at K = 5 has the best accurecy of 0.928571. using these hyperparameter to calulate the final accuracy with test data"
   ]
  },
  {
   "cell_type": "code",
   "execution_count": 22,
   "metadata": {},
   "outputs": [
    {
     "data": {
      "text/plain": [
       "0.9473684210526315"
      ]
     },
     "execution_count": 22,
     "metadata": {},
     "output_type": "execute_result"
    }
   ],
   "source": [
    "cos_sim_test_predictions = []   # to store predictions\n",
    "correct = 0      \n",
    "\n",
    "\n",
    "for row in test_df.iterrows():\n",
    "    prediction = knn(row, dev_df, 5, cosine_similarity)\n",
    "    cos_sim_test_predictions.append(prediction)\n",
    "\n",
    "    #checking if prediction is correct.\n",
    "    if prediction[-1] == row[1][-1]:\n",
    "        correct += 1\n",
    "\n",
    "cos_sim_accuracy = (correct/len(test_df))\n",
    "cos_sim_accuracy"
   ]
  },
  {
   "cell_type": "markdown",
   "metadata": {},
   "source": [
    "# Final accuracy got with test data using K = 5 and cosine similarty function is .94737"
   ]
  }
 ],
 "metadata": {
  "kernelspec": {
   "display_name": "Python 3",
   "language": "python",
   "name": "python3"
  },
  "language_info": {
   "codemirror_mode": {
    "name": "ipython",
    "version": 3
   },
   "file_extension": ".py",
   "mimetype": "text/x-python",
   "name": "python",
   "nbconvert_exporter": "python",
   "pygments_lexer": "ipython3",
   "version": "3.7.4"
  }
 },
 "nbformat": 4,
 "nbformat_minor": 4
}
